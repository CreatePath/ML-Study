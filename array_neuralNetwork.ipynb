{
 "cells": [
  {
   "cell_type": "markdown",
   "id": "e6bbc014",
   "metadata": {},
   "source": [
    "# 행렬 개념"
   ]
  },
  {
   "cell_type": "markdown",
   "id": "c11a9945",
   "metadata": {},
   "source": [
    "## 1. n차원 행렬"
   ]
  },
  {
   "cell_type": "code",
   "execution_count": 1,
   "id": "e7faf69b",
   "metadata": {},
   "outputs": [
    {
     "name": "stdout",
     "output_type": "stream",
     "text": [
      "[1 2 3 4]\n",
      "1\n",
      "(4,)\n",
      "4\n"
     ]
    }
   ],
   "source": [
    "import numpy as np\n",
    "A = np.array([1,2,3,4])\n",
    "print(A)\n",
    "print(np.ndim(A))\n",
    "print(A.shape)\n",
    "print(A.shape[0])"
   ]
  },
  {
   "cell_type": "code",
   "execution_count": 2,
   "id": "2dc99048",
   "metadata": {},
   "outputs": [
    {
     "name": "stdout",
     "output_type": "stream",
     "text": [
      "[[1 2]\n",
      " [3 4]\n",
      " [5 6]]\n",
      "2\n",
      "(3, 2)\n"
     ]
    }
   ],
   "source": [
    "B = np.array([[1,2],[3,4],[5,6]])\n",
    "print(B)\n",
    "print(np.ndim(B))\n",
    "print(B.shape)"
   ]
  },
  {
   "cell_type": "markdown",
   "id": "04ce309f",
   "metadata": {},
   "source": [
    "## 2. 행렬 곱 연산"
   ]
  },
  {
   "cell_type": "code",
   "execution_count": 3,
   "id": "f7a54c04",
   "metadata": {},
   "outputs": [
    {
     "name": "stdout",
     "output_type": "stream",
     "text": [
      "[[22 28]\n",
      " [49 64]]\n",
      "[[22 28]\n",
      " [49 64]]\n"
     ]
    }
   ],
   "source": [
    "# 행렬 곱 ==> np.dot(A,B) == A@B\n",
    "A = np.array([[1,2,3],[4,5,6]])\n",
    "B = np.array([[1,2], [3,4], [5,6]])\n",
    "print(np.dot(A, B))\n",
    "print(A@B)\n",
    "# A의 1번째 차원의 원소 수와 행렬 B의 0번째 차원의 원소 수가 같아야 곱 연산이 가능하다.\n",
    "# B가 1차원일때에도 B의 원소 수가 A의 1번째 차원의 원소 수와 같아야한다."
   ]
  },
  {
   "cell_type": "markdown",
   "id": "faf70d69",
   "metadata": {},
   "source": [
    "# np.array로 신경망 만들기"
   ]
  },
  {
   "cell_type": "code",
   "execution_count": 4,
   "id": "32d5a5d1",
   "metadata": {},
   "outputs": [],
   "source": [
    "# 활성화 함수는 시그모이드 함수 활용.\n",
    "def sigmoid(x):\n",
    "    return 1 / (1 + np.exp(-x))"
   ]
  },
  {
   "cell_type": "code",
   "execution_count": 5,
   "id": "bfa3b20c",
   "metadata": {},
   "outputs": [
    {
     "name": "stdout",
     "output_type": "stream",
     "text": [
      "입력층\n",
      " [1 2]\n",
      "가중치\n",
      " [[1 3 5]\n",
      " [2 4 6]]\n",
      "출력층\n",
      " [ 5 11 17]\n"
     ]
    }
   ],
   "source": [
    "X = np.array([1,2])\n",
    "print(\"입력층\\n\", X)\n",
    "W = np.array([[1,3,5], [2,4,6]])\n",
    "print(\"가중치\\n\", W)\n",
    "Y = np.dot(X, W)\n",
    "print(\"출력층\\n\", Y)"
   ]
  },
  {
   "cell_type": "code",
   "execution_count": 6,
   "id": "f267a9aa",
   "metadata": {},
   "outputs": [
    {
     "name": "stdout",
     "output_type": "stream",
     "text": [
      "(2, 3)\n",
      "(2,)\n",
      "(3,)\n",
      "[0.3 0.7 1.1]\n",
      "[0.57444252 0.66818777 0.75026011]\n"
     ]
    }
   ],
   "source": [
    "# 0 ==> 1\n",
    "X = np.array([1.0, 0.5])\n",
    "W1 = np.array([[0.1, 0.3, 0.5], [0.2, 0.4, 0.6]])\n",
    "B1 = np.array([0.1, 0.2, 0.3])\n",
    "\n",
    "print(W1.shape)\n",
    "print(X.shape)\n",
    "print(B1.shape)\n",
    "\n",
    "A1 = np.dot(X, W1) + B1\n",
    "print(A1)\n",
    "Z1 = sigmoid(A1)\n",
    "print(Z1)"
   ]
  },
  {
   "cell_type": "code",
   "execution_count": 7,
   "id": "2317eb68",
   "metadata": {},
   "outputs": [
    {
     "name": "stdout",
     "output_type": "stream",
     "text": [
      "(3,)\n",
      "(3, 2)\n",
      "(2,)\n",
      "[0.51615984 1.21402696]\n",
      "[0.62624937 0.7710107 ]\n"
     ]
    }
   ],
   "source": [
    "# 1 ==> 2\n",
    "W2 = np.array([[0.1, 0.4], [0.2, 0.5], [0.3, 0.6]])\n",
    "B2 = np.array([0.1, 0.2])\n",
    "\n",
    "print(Z1.shape)\n",
    "print(W2.shape)\n",
    "print(B2.shape)\n",
    "\n",
    "A2 = np.dot(Z1, W2) + B2\n",
    "Z2 = sigmoid(A2)\n",
    "print(A2)\n",
    "print(Z2)"
   ]
  },
  {
   "cell_type": "markdown",
   "id": "e30c35a7",
   "metadata": {},
   "source": [
    "## 구현 정리"
   ]
  },
  {
   "cell_type": "code",
   "execution_count": 8,
   "id": "a6f4d3b7",
   "metadata": {},
   "outputs": [],
   "source": [
    "def sigmoid(x):\n",
    "    return 1 / (1 + np.exp(-x))"
   ]
  },
  {
   "cell_type": "code",
   "execution_count": 9,
   "id": "49de0152",
   "metadata": {},
   "outputs": [],
   "source": [
    "def identity_function(x):\n",
    "    return x"
   ]
  },
  {
   "cell_type": "code",
   "execution_count": 10,
   "id": "5c68016e",
   "metadata": {},
   "outputs": [],
   "source": [
    "def init_network():\n",
    "    network = {}\n",
    "    network['W1'] = np.array([[0.1, 0.3, 0.5], [0.2, 0.4, 0.6]])\n",
    "    network['b1'] = np.array([0.1, 0.2, 0.3])    \n",
    "    network['W2'] = np.array([[0.1, 0.4], [0.2, 0.5], [0.3, 0.6]])    \n",
    "    network['b2'] = np.array([0.1, 0.2])    \n",
    "    network['W3'] = np.array([[0.1, 0.3], [0.2, 0.4]])    \n",
    "    network['b3'] = np.array([0.1, 0.2])    \n",
    "    \n",
    "    return network"
   ]
  },
  {
   "cell_type": "code",
   "execution_count": 11,
   "id": "79a5b005",
   "metadata": {},
   "outputs": [],
   "source": [
    "def forward(network, x):\n",
    "    W1, W2, W3 = network['W1'], network['W2'], network['W3']\n",
    "    b1, b2, b3 = network['b1'], network['b2'], network['b3']\n",
    "    \n",
    "    a1 = np.dot(x, W1) + b1\n",
    "    z1 = sigmoid(a1)\n",
    "    a2 = np.dot(z1, W2) + b2\n",
    "    z2 = sigmoid(a2)\n",
    "    a3 = np.dot(z2, W3) + b3\n",
    "    y = identity_function(a3)\n",
    "    \n",
    "    return y"
   ]
  },
  {
   "cell_type": "code",
   "execution_count": 12,
   "id": "9e7bdaac",
   "metadata": {},
   "outputs": [
    {
     "name": "stdout",
     "output_type": "stream",
     "text": [
      "[0.31682708 0.69627909]\n"
     ]
    }
   ],
   "source": [
    "network = init_network()\n",
    "x = np.array([1.0, 0.5])\n",
    "y = forward(network, x)\n",
    "print(y)"
   ]
  },
  {
   "cell_type": "markdown",
   "id": "0142b7b9",
   "metadata": {},
   "source": [
    "## 출력층 설계 --> 활성화 함수 설정\n",
    "***\n",
    "일반적으로   \n",
    "회귀 ==> 항등함수 (identity function)   \n",
    "분류 ==> 소프트맥스 함수 (softmax function)"
   ]
  },
  {
   "cell_type": "code",
   "execution_count": 13,
   "id": "30eb9627",
   "metadata": {},
   "outputs": [
    {
     "name": "stdout",
     "output_type": "stream",
     "text": [
      "[ 1.34985881 18.17414537 54.59815003]\n"
     ]
    }
   ],
   "source": [
    "a = np.array([0.3, 2.9, 4.0])\n",
    "\n",
    "exp_a = np.exp(a)\n",
    "print(exp_a)"
   ]
  },
  {
   "cell_type": "code",
   "execution_count": 14,
   "id": "79668285",
   "metadata": {},
   "outputs": [
    {
     "name": "stdout",
     "output_type": "stream",
     "text": [
      "74.1221542101633\n"
     ]
    }
   ],
   "source": [
    "sum_exp_a = np.sum(exp_a)\n",
    "print(sum_exp_a)"
   ]
  },
  {
   "cell_type": "code",
   "execution_count": 15,
   "id": "088df5a9",
   "metadata": {},
   "outputs": [
    {
     "name": "stdout",
     "output_type": "stream",
     "text": [
      "[0.01821127 0.24519181 0.73659691]\n"
     ]
    }
   ],
   "source": [
    "y = exp_a / sum_exp_a\n",
    "print(y)"
   ]
  },
  {
   "cell_type": "code",
   "execution_count": 17,
   "id": "f7cafe0f",
   "metadata": {},
   "outputs": [],
   "source": [
    "def softmax(a):\n",
    "    c = np.max(a)\n",
    "    exp_a = np.exp(a - c)\n",
    "    sum_exp_a = np.sum(exp_a)\n",
    "    y = exp_a / sum_exp_a\n",
    "    \n",
    "    return y"
   ]
  },
  {
   "cell_type": "markdown",
   "id": "59deb926",
   "metadata": {},
   "source": [
    "### 소프트맥스 함수의 특징   \n",
    "출력은 0 ~ 1.0 사이의 실수.   \n",
    "출력의 총합은 1   \n",
    "==> 함수의 출력을 확률로 해석할 수 있다!"
   ]
  },
  {
   "cell_type": "code",
   "execution_count": 18,
   "id": "e2a608ea",
   "metadata": {},
   "outputs": [
    {
     "name": "stdout",
     "output_type": "stream",
     "text": [
      "[0.01821127 0.24519181 0.73659691]\n"
     ]
    }
   ],
   "source": [
    "a = np.array([0.3, 2.9, 4.0])\n",
    "y = softmax(a)\n",
    "print(y)"
   ]
  },
  {
   "cell_type": "code",
   "execution_count": 19,
   "id": "7027798e",
   "metadata": {},
   "outputs": [
    {
     "data": {
      "text/plain": [
       "1.0"
      ]
     },
     "execution_count": 19,
     "metadata": {},
     "output_type": "execute_result"
    }
   ],
   "source": [
    "np.sum(y)"
   ]
  },
  {
   "cell_type": "markdown",
   "id": "27c45ab2",
   "metadata": {},
   "source": [
    "분류 문제에서 [2]번째 원소의 확률이 가장 크니, [2]번째 원소가 정답이다! 라고 할 수 있음."
   ]
  },
  {
   "cell_type": "markdown",
   "id": "c44dfba9",
   "metadata": {},
   "source": [
    "소프트맥스 함수를 적용해도 원소들 사이의 대소관계는 변하지 않음. 결과적으로 소프트맥스 함수를 생략해도 된다."
   ]
  }
 ],
 "metadata": {
  "kernelspec": {
   "display_name": "Python 3 (ipykernel)",
   "language": "python",
   "name": "python3"
  },
  "language_info": {
   "codemirror_mode": {
    "name": "ipython",
    "version": 3
   },
   "file_extension": ".py",
   "mimetype": "text/x-python",
   "name": "python",
   "nbconvert_exporter": "python",
   "pygments_lexer": "ipython3",
   "version": "3.9.7"
  }
 },
 "nbformat": 4,
 "nbformat_minor": 5
}
