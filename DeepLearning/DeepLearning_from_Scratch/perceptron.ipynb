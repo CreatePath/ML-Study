{
 "cells": [
  {
   "cell_type": "markdown",
   "id": "6555cac0",
   "metadata": {},
   "source": [
    "# 퍼셉트론으로 논리 회로 구현"
   ]
  },
  {
   "cell_type": "markdown",
   "id": "8f749252",
   "metadata": {},
   "source": [
    "## 1. AND 게이트 구현"
   ]
  },
  {
   "cell_type": "code",
   "execution_count": 1,
   "id": "fb8c7800",
   "metadata": {},
   "outputs": [],
   "source": [
    "def AND(x1, x2):\n",
    "    w1, w2, theta = 0.5, 0.5, 0.7\n",
    "    tmp = x1*w1 + x2*w2\n",
    "    if tmp <= theta:\n",
    "        return 0\n",
    "    else:\n",
    "        return 1"
   ]
  },
  {
   "cell_type": "code",
   "execution_count": 2,
   "id": "fd84ba62",
   "metadata": {},
   "outputs": [
    {
     "name": "stdout",
     "output_type": "stream",
     "text": [
      "0\n",
      "0\n",
      "0\n",
      "1\n"
     ]
    }
   ],
   "source": [
    "print(AND(0,0))\n",
    "print(AND(1,0))\n",
    "print(AND(0,1))\n",
    "print(AND(1,1))"
   ]
  },
  {
   "cell_type": "markdown",
   "id": "794b58e6",
   "metadata": {},
   "source": [
    "### 퍼셉트론 수식의 좌변에 bias 추가"
   ]
  },
  {
   "cell_type": "code",
   "execution_count": 3,
   "id": "659fc2d3",
   "metadata": {},
   "outputs": [
    {
     "name": "stdout",
     "output_type": "stream",
     "text": [
      "[0.  0.5]\n",
      "-0.19999999999999996\n"
     ]
    }
   ],
   "source": [
    "import numpy as np\n",
    "x = np.array([0,1]) # 입력\n",
    "w = np.array([0.5, 0.5]) # 가중치\n",
    "b = -0.7 # 편향 (bias)\n",
    "print(w*x)\n",
    "print(np.sum(w*x) + b) # 대략 -0.2 (부동소수점에 의한 오차)"
   ]
  },
  {
   "cell_type": "markdown",
   "id": "17dddfd7",
   "metadata": {},
   "source": [
    "## 2. 퍼셉트론으로 AND, NAND, OR 게이트 구현"
   ]
  },
  {
   "cell_type": "code",
   "execution_count": 4,
   "id": "440f8bc5",
   "metadata": {},
   "outputs": [],
   "source": [
    "def AND2(x1, x2):\n",
    "    x = np.array([x1, x2])\n",
    "    w = np.array([0.5, 0.5])\n",
    "    b = -0.7\n",
    "    tmp = np.sum(x*w) + b\n",
    "    if tmp <= 0:\n",
    "        return 0\n",
    "    else:\n",
    "        return 1"
   ]
  },
  {
   "cell_type": "code",
   "execution_count": 5,
   "id": "e1c3cd75",
   "metadata": {},
   "outputs": [],
   "source": [
    "def NAND(x1, x2):\n",
    "    x = np.array([x1, x2])\n",
    "    w = np.array([-0.5, -0.5])\n",
    "    b = 0.7\n",
    "    tmp = np.sum(x*w) + b\n",
    "    if tmp <= 0:\n",
    "        return 0\n",
    "    else:\n",
    "        return 1"
   ]
  },
  {
   "cell_type": "code",
   "execution_count": 6,
   "id": "479ac078",
   "metadata": {},
   "outputs": [],
   "source": [
    "def OR(x1, x2):\n",
    "    x = np.array([x1, x2])\n",
    "    w = np.array([0.5, 0.5])\n",
    "    b = -0.2\n",
    "    tmp = np.sum(x*w) + b\n",
    "    if tmp <= 0:\n",
    "        return 0\n",
    "    else:\n",
    "        return 1"
   ]
  },
  {
   "cell_type": "code",
   "execution_count": 7,
   "id": "db977bc7",
   "metadata": {},
   "outputs": [
    {
     "name": "stdout",
     "output_type": "stream",
     "text": [
      "<function AND2 at 0x000001DDAF19A820>\n",
      "input: (0, 0)\n",
      "0\n",
      "<function AND2 at 0x000001DDAF19A820>\n",
      "input: (0, 1)\n",
      "0\n",
      "<function AND2 at 0x000001DDAF19A820>\n",
      "input: (1, 0)\n",
      "0\n",
      "<function AND2 at 0x000001DDAF19A820>\n",
      "input: (1, 1)\n",
      "1\n",
      "=========================================\n",
      "<function NAND at 0x000001DDAF19AD30>\n",
      "input: (0, 0)\n",
      "1\n",
      "<function NAND at 0x000001DDAF19AD30>\n",
      "input: (0, 1)\n",
      "1\n",
      "<function NAND at 0x000001DDAF19AD30>\n",
      "input: (1, 0)\n",
      "1\n",
      "<function NAND at 0x000001DDAF19AD30>\n",
      "input: (1, 1)\n",
      "0\n",
      "=========================================\n",
      "<function OR at 0x000001DDAF1A90D0>\n",
      "input: (0, 0)\n",
      "0\n",
      "<function OR at 0x000001DDAF1A90D0>\n",
      "input: (0, 1)\n",
      "1\n",
      "<function OR at 0x000001DDAF1A90D0>\n",
      "input: (1, 0)\n",
      "1\n",
      "<function OR at 0x000001DDAF1A90D0>\n",
      "input: (1, 1)\n",
      "1\n",
      "=========================================\n"
     ]
    }
   ],
   "source": [
    "logics = [AND2, NAND, OR]\n",
    "inputs = [(0,0),(0,1),(1,0),(1,1)]\n",
    "for logic in logics:\n",
    "    for arg in inputs:\n",
    "        print(str(logic))\n",
    "        print(\"input:\", arg)\n",
    "        print(logic(arg[0], arg[1]))\n",
    "    print(\"=========================================\")"
   ]
  },
  {
   "cell_type": "markdown",
   "id": "23e32e46",
   "metadata": {},
   "source": [
    "## 3. XOR 구현"
   ]
  },
  {
   "cell_type": "code",
   "execution_count": 10,
   "id": "ea698cb9",
   "metadata": {},
   "outputs": [],
   "source": [
    "def XOR(x1, x2):\n",
    "    s1 = NAND(x1,x2)\n",
    "    s2 = OR(x1, x2)\n",
    "    y = AND2(s1, s2)\n",
    "    return y"
   ]
  },
  {
   "cell_type": "code",
   "execution_count": 12,
   "id": "369efd29",
   "metadata": {},
   "outputs": [
    {
     "name": "stdout",
     "output_type": "stream",
     "text": [
      "input: (0, 0)\n",
      "0\n",
      "input: (0, 1)\n",
      "1\n",
      "input: (1, 0)\n",
      "1\n",
      "input: (1, 1)\n",
      "0\n"
     ]
    }
   ],
   "source": [
    "inputs = [(0,0),(0,1),(1,0),(1,1)]\n",
    "for arg in inputs:\n",
    "    print(\"input:\", arg)\n",
    "    print(XOR(arg[0], arg[1]))"
   ]
  }
 ],
 "metadata": {
  "kernelspec": {
   "display_name": "Python 3 (ipykernel)",
   "language": "python",
   "name": "python3"
  },
  "language_info": {
   "codemirror_mode": {
    "name": "ipython",
    "version": 3
   },
   "file_extension": ".py",
   "mimetype": "text/x-python",
   "name": "python",
   "nbconvert_exporter": "python",
   "pygments_lexer": "ipython3",
   "version": "3.9.7"
  }
 },
 "nbformat": 4,
 "nbformat_minor": 5
}
